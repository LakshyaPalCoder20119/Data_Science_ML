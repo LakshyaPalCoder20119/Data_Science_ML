{
  "nbformat": 4,
  "nbformat_minor": 0,
  "metadata": {
    "colab": {
      "provenance": [],
      "authorship_tag": "ABX9TyPlc7MpgTTHOOCgjcet9Wjk",
      "include_colab_link": true
    },
    "kernelspec": {
      "name": "python3",
      "display_name": "Python 3"
    },
    "language_info": {
      "name": "python"
    }
  },
  "cells": [
    {
      "cell_type": "markdown",
      "metadata": {
        "id": "view-in-github",
        "colab_type": "text"
      },
      "source": [
        "<a href=\"https://colab.research.google.com/github/LakshyaPalCoder20119/Data_Science_ML/blob/main/Numpy/Numpy_Assignment.ipynb\" target=\"_parent\"><img src=\"https://colab.research.google.com/assets/colab-badge.svg\" alt=\"Open In Colab\"/></a>"
      ]
    },
    {
      "cell_type": "markdown",
      "source": [
        " **Import** **numpy** **as** **np**"
      ],
      "metadata": {
        "id": "PwRaYZCCJk-5"
      }
    },
    {
      "cell_type": "code",
      "execution_count": 5,
      "metadata": {
        "id": "wcZ2nSkhJbAr"
      },
      "outputs": [],
      "source": [
        "import numpy as np"
      ]
    },
    {
      "cell_type": "markdown",
      "source": [
        "Create an array of 10 zeros\n",
        "\n"
      ],
      "metadata": {
        "id": "4dZWCDWbJfGq"
      }
    },
    {
      "cell_type": "code",
      "source": [
        "np.zeros(10, dtype='int32')"
      ],
      "metadata": {
        "colab": {
          "base_uri": "https://localhost:8080/"
        },
        "id": "9NpaAAiSJzC2",
        "outputId": "63f57c68-44ac-4fc9-a5bc-ff9c6c6c5c4e"
      },
      "execution_count": 6,
      "outputs": [
        {
          "output_type": "execute_result",
          "data": {
            "text/plain": [
              "array([0, 0, 0, 0, 0, 0, 0, 0, 0, 0], dtype=int32)"
            ]
          },
          "metadata": {},
          "execution_count": 6
        }
      ]
    },
    {
      "cell_type": "markdown",
      "source": [
        "Create an array of 10 ones"
      ],
      "metadata": {
        "id": "V0Abv15LKLOv"
      }
    },
    {
      "cell_type": "code",
      "source": [
        "np.ones(10)"
      ],
      "metadata": {
        "colab": {
          "base_uri": "https://localhost:8080/"
        },
        "id": "QN2u3QUUKBZc",
        "outputId": "8a3d176e-2a81-4338-ff76-a2d1b4530218"
      },
      "execution_count": 7,
      "outputs": [
        {
          "output_type": "execute_result",
          "data": {
            "text/plain": [
              "array([1., 1., 1., 1., 1., 1., 1., 1., 1., 1.])"
            ]
          },
          "metadata": {},
          "execution_count": 7
        }
      ]
    },
    {
      "cell_type": "markdown",
      "source": [
        "Create an array of 10 fives"
      ],
      "metadata": {
        "id": "cvHKy2zqKfBO"
      }
    },
    {
      "cell_type": "code",
      "source": [
        "print(np.ones(10)  * 5)\n",
        "\n",
        "print(np.full(10, 5))"
      ],
      "metadata": {
        "colab": {
          "base_uri": "https://localhost:8080/"
        },
        "id": "EkQGPR6UKOqc",
        "outputId": "f9c1f001-e842-4016-cc55-da56c3a48233"
      },
      "execution_count": 8,
      "outputs": [
        {
          "output_type": "stream",
          "name": "stdout",
          "text": [
            "[5. 5. 5. 5. 5. 5. 5. 5. 5. 5.]\n",
            "[5 5 5 5 5 5 5 5 5 5]\n"
          ]
        }
      ]
    },
    {
      "cell_type": "markdown",
      "source": [
        "Create an array of the integers from 10 to 50\n",
        "\n",
        "New"
      ],
      "metadata": {
        "id": "Bb5UUVn5MOHt"
      }
    },
    {
      "cell_type": "code",
      "source": [
        "np.arange(10, 51)"
      ],
      "metadata": {
        "colab": {
          "base_uri": "https://localhost:8080/"
        },
        "id": "S7byHpZSMRzV",
        "outputId": "8c83808b-915d-47d2-db3b-0c1b4168f72e"
      },
      "execution_count": 9,
      "outputs": [
        {
          "output_type": "execute_result",
          "data": {
            "text/plain": [
              "array([10, 11, 12, 13, 14, 15, 16, 17, 18, 19, 20, 21, 22, 23, 24, 25, 26,\n",
              "       27, 28, 29, 30, 31, 32, 33, 34, 35, 36, 37, 38, 39, 40, 41, 42, 43,\n",
              "       44, 45, 46, 47, 48, 49, 50])"
            ]
          },
          "metadata": {},
          "execution_count": 9
        }
      ]
    },
    {
      "cell_type": "markdown",
      "source": [
        "Create an array of all the even integers from 10 to 50"
      ],
      "metadata": {
        "id": "xPA3jQtiMkqC"
      }
    },
    {
      "cell_type": "code",
      "source": [
        " print(np.arange(10, 51, 2))\n",
        "\n",
        "\n",
        "# another method\n",
        "a = np.arange(10, 51)\n",
        "\n",
        "a[ a % 2 == 0]\n",
        "     "
      ],
      "metadata": {
        "id": "IkefY1ACMl2F",
        "colab": {
          "base_uri": "https://localhost:8080/"
        },
        "outputId": "38bf39e4-dcb9-48b6-e8a6-f3ad18cb8063"
      },
      "execution_count": 10,
      "outputs": [
        {
          "output_type": "stream",
          "name": "stdout",
          "text": [
            "[10 12 14 16 18 20 22 24 26 28 30 32 34 36 38 40 42 44 46 48 50]\n"
          ]
        },
        {
          "output_type": "execute_result",
          "data": {
            "text/plain": [
              "array([10, 12, 14, 16, 18, 20, 22, 24, 26, 28, 30, 32, 34, 36, 38, 40, 42,\n",
              "       44, 46, 48, 50])"
            ]
          },
          "metadata": {},
          "execution_count": 10
        }
      ]
    },
    {
      "cell_type": "markdown",
      "source": [
        "Create a 3x4 matrix with numbers ranging from 0 to 12"
      ],
      "metadata": {
        "id": "PSv5sdo_UfvF"
      }
    },
    {
      "cell_type": "code",
      "source": [
        "np.arange(12).reshape(3,4)"
      ],
      "metadata": {
        "colab": {
          "base_uri": "https://localhost:8080/"
        },
        "id": "V-8LEfbwUhYQ",
        "outputId": "4d425945-8dcc-4520-cd5b-a5ee41087e4b"
      },
      "execution_count": 11,
      "outputs": [
        {
          "output_type": "execute_result",
          "data": {
            "text/plain": [
              "array([[ 0,  1,  2,  3],\n",
              "       [ 4,  5,  6,  7],\n",
              "       [ 8,  9, 10, 11]])"
            ]
          },
          "metadata": {},
          "execution_count": 11
        }
      ]
    },
    {
      "cell_type": "code",
      "source": [
        "np.identity(3, dtype='int32')"
      ],
      "metadata": {
        "colab": {
          "base_uri": "https://localhost:8080/"
        },
        "id": "1Bd1qZrdUhp4",
        "outputId": "2befb5b2-aa1c-41b4-f5d1-d426313caefe"
      },
      "execution_count": 12,
      "outputs": [
        {
          "output_type": "execute_result",
          "data": {
            "text/plain": [
              "array([[1, 0, 0],\n",
              "       [0, 1, 0],\n",
              "       [0, 0, 1]], dtype=int32)"
            ]
          },
          "metadata": {},
          "execution_count": 12
        }
      ]
    },
    {
      "cell_type": "markdown",
      "source": [
        "Use Numpy to generate a random number between 0 and 1"
      ],
      "metadata": {
        "id": "BSWcd4_AV6Te"
      }
    },
    {
      "cell_type": "code",
      "source": [
        "# new method\n",
        "print(np.random.random())\n",
        "\n",
        "#\n",
        "np.random.rand(1)[0]"
      ],
      "metadata": {
        "colab": {
          "base_uri": "https://localhost:8080/"
        },
        "id": "SoOxF3iZUhyw",
        "outputId": "559837b6-ffdc-4d17-8513-76ea023bdc0d"
      },
      "execution_count": 13,
      "outputs": [
        {
          "output_type": "stream",
          "name": "stdout",
          "text": [
            "0.735988361467419\n"
          ]
        },
        {
          "output_type": "execute_result",
          "data": {
            "text/plain": [
              "0.09770042657791123"
            ]
          },
          "metadata": {},
          "execution_count": 13
        }
      ]
    },
    {
      "cell_type": "code",
      "source": [
        "np.random.standard_normal(25).std()\n",
        "\n",
        "\n",
        "\n",
        "np.random.randn(25).std()"
      ],
      "metadata": {
        "colab": {
          "base_uri": "https://localhost:8080/"
        },
        "id": "vnVN7UNMWBme",
        "outputId": "79e16a4e-a977-4710-d8a1-fb9d35b96658"
      },
      "execution_count": 14,
      "outputs": [
        {
          "output_type": "execute_result",
          "data": {
            "text/plain": [
              "0.9920691975716032"
            ]
          },
          "metadata": {},
          "execution_count": 14
        }
      ]
    },
    {
      "cell_type": "code",
      "source": [
        "\n",
        "np.linspace(0.01, 1, 100).reshape(10, 10)"
      ],
      "metadata": {
        "colab": {
          "base_uri": "https://localhost:8080/"
        },
        "id": "1PTFfZvjWMEd",
        "outputId": "3bcbfbf2-24ec-4016-dff1-d86d1d1606e0"
      },
      "execution_count": 15,
      "outputs": [
        {
          "output_type": "execute_result",
          "data": {
            "text/plain": [
              "array([[0.01, 0.02, 0.03, 0.04, 0.05, 0.06, 0.07, 0.08, 0.09, 0.1 ],\n",
              "       [0.11, 0.12, 0.13, 0.14, 0.15, 0.16, 0.17, 0.18, 0.19, 0.2 ],\n",
              "       [0.21, 0.22, 0.23, 0.24, 0.25, 0.26, 0.27, 0.28, 0.29, 0.3 ],\n",
              "       [0.31, 0.32, 0.33, 0.34, 0.35, 0.36, 0.37, 0.38, 0.39, 0.4 ],\n",
              "       [0.41, 0.42, 0.43, 0.44, 0.45, 0.46, 0.47, 0.48, 0.49, 0.5 ],\n",
              "       [0.51, 0.52, 0.53, 0.54, 0.55, 0.56, 0.57, 0.58, 0.59, 0.6 ],\n",
              "       [0.61, 0.62, 0.63, 0.64, 0.65, 0.66, 0.67, 0.68, 0.69, 0.7 ],\n",
              "       [0.71, 0.72, 0.73, 0.74, 0.75, 0.76, 0.77, 0.78, 0.79, 0.8 ],\n",
              "       [0.81, 0.82, 0.83, 0.84, 0.85, 0.86, 0.87, 0.88, 0.89, 0.9 ],\n",
              "       [0.91, 0.92, 0.93, 0.94, 0.95, 0.96, 0.97, 0.98, 0.99, 1.  ]])"
            ]
          },
          "metadata": {},
          "execution_count": 15
        }
      ]
    },
    {
      "cell_type": "markdown",
      "source": [
        "Numpy Indexing and Slicing"
      ],
      "metadata": {
        "id": "PSicOqlBWPX0"
      }
    },
    {
      "cell_type": "code",
      "source": [
        "ar = (np.arange(25)+1).reshape(5,5)\n",
        "ar"
      ],
      "metadata": {
        "colab": {
          "base_uri": "https://localhost:8080/"
        },
        "id": "SiF4oimsWRWv",
        "outputId": "923621a5-fd31-42ec-f7da-80dddf499298"
      },
      "execution_count": 16,
      "outputs": [
        {
          "output_type": "execute_result",
          "data": {
            "text/plain": [
              "array([[ 1,  2,  3,  4,  5],\n",
              "       [ 6,  7,  8,  9, 10],\n",
              "       [11, 12, 13, 14, 15],\n",
              "       [16, 17, 18, 19, 20],\n",
              "       [21, 22, 23, 24, 25]])"
            ]
          },
          "metadata": {},
          "execution_count": 16
        }
      ]
    },
    {
      "cell_type": "code",
      "source": [
        "ar[2:, 1:4]"
      ],
      "metadata": {
        "colab": {
          "base_uri": "https://localhost:8080/"
        },
        "id": "kttt54U9WWml",
        "outputId": "d8bff32f-5570-4470-819a-f8389e9e46be"
      },
      "execution_count": 17,
      "outputs": [
        {
          "output_type": "execute_result",
          "data": {
            "text/plain": [
              "array([[12, 13, 14],\n",
              "       [17, 18, 19],\n",
              "       [22, 23, 24]])"
            ]
          },
          "metadata": {},
          "execution_count": 17
        }
      ]
    },
    {
      "cell_type": "code",
      "source": [
        "ar[2:, 3:0:-1]"
      ],
      "metadata": {
        "colab": {
          "base_uri": "https://localhost:8080/"
        },
        "id": "6I0--2OcWiHW",
        "outputId": "10e3106e-60e4-4111-da86-eefff18198b5"
      },
      "execution_count": 18,
      "outputs": [
        {
          "output_type": "execute_result",
          "data": {
            "text/plain": [
              "array([[14, 13, 12],\n",
              "       [19, 18, 17],\n",
              "       [24, 23, 22]])"
            ]
          },
          "metadata": {},
          "execution_count": 18
        }
      ]
    },
    {
      "cell_type": "code",
      "source": [
        "ar[4:1:-1,  3:0:-1]"
      ],
      "metadata": {
        "colab": {
          "base_uri": "https://localhost:8080/"
        },
        "id": "4RF-Wli7Wn5U",
        "outputId": "95054c4a-93e9-4c1a-b813-c4f76b7bbafe"
      },
      "execution_count": 19,
      "outputs": [
        {
          "output_type": "execute_result",
          "data": {
            "text/plain": [
              "array([[24, 23, 22],\n",
              "       [19, 18, 17],\n",
              "       [14, 13, 12]])"
            ]
          },
          "metadata": {},
          "execution_count": 19
        }
      ]
    },
    {
      "cell_type": "markdown",
      "source": [
        "Split Concatinate"
      ],
      "metadata": {
        "id": "pydbUq4yW8Ds"
      }
    },
    {
      "cell_type": "code",
      "source": [
        "ar = np.arange(2,10)"
      ],
      "metadata": {
        "id": "WgKt_qh_W9Q1"
      },
      "execution_count": null,
      "outputs": []
    },
    {
      "cell_type": "code",
      "source": [
        "a = np.array([\n",
        "              [1,2,3],\n",
        "              [4,5,6]\n",
        "])\n",
        "b = np.array([\n",
        "              [7,8,9]\n",
        "])"
      ],
      "metadata": {
        "id": "tTILF5I7XRtz"
      },
      "execution_count": 20,
      "outputs": []
    },
    {
      "cell_type": "markdown",
      "source": [
        "Concatinate array to create new array with content\n",
        "\n",
        "[ [1,2,3],\n",
        "\n",
        "[4,5,6],\n",
        "\n",
        "[7,8,9] ]"
      ],
      "metadata": {
        "id": "qgGl_jfdoI7p"
      }
    },
    {
      "cell_type": "code",
      "source": [
        "np.vstack([a,b, b])"
      ],
      "metadata": {
        "colab": {
          "base_uri": "https://localhost:8080/"
        },
        "id": "k2a4ZPncoObZ",
        "outputId": "4db119dd-f3d1-4f5b-ea11-84471e0621cc"
      },
      "execution_count": 21,
      "outputs": [
        {
          "output_type": "execute_result",
          "data": {
            "text/plain": [
              "array([[1, 2, 3],\n",
              "       [4, 5, 6],\n",
              "       [7, 8, 9],\n",
              "       [7, 8, 9]])"
            ]
          },
          "metadata": {},
          "execution_count": 21
        }
      ]
    },
    {
      "cell_type": "code",
      "source": [
        "a = np.array([\n",
        "              [1,2,3],\n",
        "              [4,5,6]\n",
        "])\n",
        "b = np.array([\n",
        "              [7,8,9, 10],\n",
        "              [11, 12, 13, 14]\n",
        "])"
      ],
      "metadata": {
        "id": "6pnDKnz_qv3H"
      },
      "execution_count": 22,
      "outputs": []
    },
    {
      "cell_type": "markdown",
      "source": [
        "Concatinate array to create new array with content\n",
        "\n",
        "[\n",
        "\n",
        "[1,2,3, 7,8,9, 10],\n",
        "\n",
        "[4,5,6, 11, 12, 13, 14]\n",
        "\n",
        "] "
      ],
      "metadata": {
        "id": "jKzg6lCKra_2"
      }
    },
    {
      "cell_type": "code",
      "source": [
        "np.hstack([a,b])"
      ],
      "metadata": {
        "colab": {
          "base_uri": "https://localhost:8080/"
        },
        "id": "1m9g6SWMqz9S",
        "outputId": "0fc14d93-da57-4023-f966-ea9de8c24463"
      },
      "execution_count": 23,
      "outputs": [
        {
          "output_type": "execute_result",
          "data": {
            "text/plain": [
              "array([[ 1,  2,  3,  7,  8,  9, 10],\n",
              "       [ 4,  5,  6, 11, 12, 13, 14]])"
            ]
          },
          "metadata": {},
          "execution_count": 23
        }
      ]
    },
    {
      "cell_type": "markdown",
      "source": [
        "Broadcasting and Indexing"
      ],
      "metadata": {
        "id": "1A8bB5KarhEO"
      }
    },
    {
      "cell_type": "code",
      "source": [
        "ar = np.round(np.random.rand(10)*10)\n",
        "ar"
      ],
      "metadata": {
        "colab": {
          "base_uri": "https://localhost:8080/"
        },
        "id": "FIhSV37eroCn",
        "outputId": "04ab1a7d-f94c-4c9d-e85d-08be82508c70"
      },
      "execution_count": 24,
      "outputs": [
        {
          "output_type": "execute_result",
          "data": {
            "text/plain": [
              "array([9., 3., 1., 2., 8., 9., 3., 8., 4., 8.])"
            ]
          },
          "metadata": {},
          "execution_count": 24
        }
      ]
    },
    {
      "cell_type": "markdown",
      "source": [
        "create new array containing all numbers which are smaller than 10 in ar"
      ],
      "metadata": {
        "id": "xr8gS_m2sCpT"
      }
    },
    {
      "cell_type": "code",
      "source": [
        "ar[ ar < 10 ]"
      ],
      "metadata": {
        "colab": {
          "base_uri": "https://localhost:8080/"
        },
        "id": "WL9Cit19sE2r",
        "outputId": "04387699-cfcb-455c-b85d-f10cdd05e376"
      },
      "execution_count": 25,
      "outputs": [
        {
          "output_type": "execute_result",
          "data": {
            "text/plain": [
              "array([9., 3., 1., 2., 8., 9., 3., 8., 4., 8.])"
            ]
          },
          "metadata": {},
          "execution_count": 25
        }
      ]
    },
    {
      "cell_type": "markdown",
      "source": [
        "create new array containing all numbers which are in range [3, 11] in ar"
      ],
      "metadata": {
        "id": "4mX4NnpXsIwT"
      }
    },
    {
      "cell_type": "code",
      "source": [
        "ar[ (ar >= 3) & (ar <= 11) ]  # & | ^ ~"
      ],
      "metadata": {
        "colab": {
          "base_uri": "https://localhost:8080/"
        },
        "id": "I1cTfgCBsOz2",
        "outputId": "7ae7ebfc-5a41-49f6-b2dd-8959ef62931f"
      },
      "execution_count": 26,
      "outputs": [
        {
          "output_type": "execute_result",
          "data": {
            "text/plain": [
              "array([9., 3., 8., 9., 3., 8., 4., 8.])"
            ]
          },
          "metadata": {},
          "execution_count": 26
        }
      ]
    },
    {
      "cell_type": "markdown",
      "source": [
        "count how many numbers are minimum in ar\n",
        "example for arr = [2, 4, 6, 2, 9, 2]\n",
        "\n",
        "min is 2\n",
        "\n",
        "there are 3 occurences of 2"
      ],
      "metadata": {
        "id": "aAdL2tkBsVaZ"
      }
    },
    {
      "cell_type": "code",
      "source": [
        "arr = np.round(np.random.rand(10)*10)\n",
        "arr"
      ],
      "metadata": {
        "colab": {
          "base_uri": "https://localhost:8080/"
        },
        "id": "VKrwj2E8sW1Z",
        "outputId": "11baeeaf-85d4-4c72-d918-7ce5e2b273fa"
      },
      "execution_count": 27,
      "outputs": [
        {
          "output_type": "execute_result",
          "data": {
            "text/plain": [
              "array([5., 3., 2., 5., 5., 5., 4., 5., 9., 1.])"
            ]
          },
          "metadata": {},
          "execution_count": 27
        }
      ]
    },
    {
      "cell_type": "code",
      "source": [
        "arr[ arr == arr.min() ].size"
      ],
      "metadata": {
        "id": "n8LZZkx5vH0Z",
        "colab": {
          "base_uri": "https://localhost:8080/"
        },
        "outputId": "80506ddf-1f04-468e-ab6c-09949999cffb"
      },
      "execution_count": 28,
      "outputs": [
        {
          "output_type": "execute_result",
          "data": {
            "text/plain": [
              "1"
            ]
          },
          "metadata": {},
          "execution_count": 28
        }
      ]
    },
    {
      "cell_type": "markdown",
      "source": [
        "**Create an array of length 20 with first 15 numbers equal to 2 and last 5 numbers = -5**"
      ],
      "metadata": {
        "id": "ksAJTCbgICE5"
      }
    },
    {
      "cell_type": "code",
      "source": [
        "a = np.ones(15)*2\n",
        "b  = np.ones(5)*-5\n",
        "\n",
        "np.concatenate([a,b])"
      ],
      "metadata": {
        "colab": {
          "base_uri": "https://localhost:8080/"
        },
        "id": "kl4yFzVEIXYh",
        "outputId": "7698b578-3d9d-4d10-a5d8-afcafebbe5ea"
      },
      "execution_count": 30,
      "outputs": [
        {
          "output_type": "execute_result",
          "data": {
            "text/plain": [
              "array([ 2.,  2.,  2.,  2.,  2.,  2.,  2.,  2.,  2.,  2.,  2.,  2.,  2.,\n",
              "        2.,  2., -5., -5., -5., -5., -5.])"
            ]
          },
          "metadata": {},
          "execution_count": 30
        }
      ]
    },
    {
      "cell_type": "code",
      "source": [
        "mat = np.round(np.random.rand(50)*100).reshape(5,10)\n",
        "mat"
      ],
      "metadata": {
        "colab": {
          "base_uri": "https://localhost:8080/"
        },
        "id": "jD3PuPubIg_n",
        "outputId": "37378a2f-5d4d-47e5-bccc-d8f6b84aaff6"
      },
      "execution_count": 31,
      "outputs": [
        {
          "output_type": "execute_result",
          "data": {
            "text/plain": [
              "array([[39., 48., 35.,  5., 71., 58., 77., 77.,  4., 38.],\n",
              "       [46., 34.,  8., 69., 71.,  7., 44., 42., 62., 74.],\n",
              "       [53., 50., 49., 62., 41., 87., 87., 73., 20., 39.],\n",
              "       [83., 74., 22., 62., 83., 40., 76., 17., 16., 46.],\n",
              "       [82., 85.,  3.,  7., 86., 96., 23., 54., 99., 93.]])"
            ]
          },
          "metadata": {},
          "execution_count": 31
        }
      ]
    },
    {
      "cell_type": "markdown",
      "source": [
        "**Sum min max of all elements of matrix**"
      ],
      "metadata": {
        "id": "l4j6X-kJIkwo"
      }
    },
    {
      "cell_type": "code",
      "source": [
        "print(mat.min())\n",
        "print(mat.max())\n",
        "print(mat.sum())"
      ],
      "metadata": {
        "colab": {
          "base_uri": "https://localhost:8080/"
        },
        "id": "x552-b0oIssX",
        "outputId": "762c173f-a722-4d90-d1b2-66ed82fc5992"
      },
      "execution_count": null,
      "outputs": [
        {
          "output_type": "stream",
          "name": "stdout",
          "text": [
            "1.0\n",
            "94.0\n",
            "2722.0\n"
          ]
        }
      ]
    },
    {
      "cell_type": "markdown",
      "source": [
        "**Standard deviation of mat**\n",
        "\n"
      ],
      "metadata": {
        "id": "vH4rdrp6Ivp_"
      }
    },
    {
      "cell_type": "code",
      "source": [
        "mat.std()"
      ],
      "metadata": {
        "colab": {
          "base_uri": "https://localhost:8080/"
        },
        "id": "kJBwGpdGI6cV",
        "outputId": "e08b8bb9-4d56-401e-b8b0-b6fa49138143"
      },
      "execution_count": 32,
      "outputs": [
        {
          "output_type": "execute_result",
          "data": {
            "text/plain": [
              "27.490805735736448"
            ]
          },
          "metadata": {},
          "execution_count": 32
        }
      ]
    },
    {
      "cell_type": "markdown",
      "source": [
        "**Sum of all columns of mat**"
      ],
      "metadata": {
        "id": "MK0kocc_JJLX"
      }
    },
    {
      "cell_type": "code",
      "source": [
        "mat.sum(axis=0)"
      ],
      "metadata": {
        "colab": {
          "base_uri": "https://localhost:8080/"
        },
        "id": "GtKzbL8UJalW",
        "outputId": "5476bd0f-3465-4973-c770-c99ef628bed6"
      },
      "execution_count": 33,
      "outputs": [
        {
          "output_type": "execute_result",
          "data": {
            "text/plain": [
              "array([303., 291., 117., 205., 352., 288., 307., 263., 201., 290.])"
            ]
          },
          "metadata": {},
          "execution_count": 33
        }
      ]
    },
    {
      "cell_type": "code",
      "source": [
        "ar = np.array([\n",
        "               [1,2,3,4],\n",
        "               [10,10,10,10]\n",
        "])"
      ],
      "metadata": {
        "id": "xO8Qfm24KZdt"
      },
      "execution_count": 34,
      "outputs": []
    },
    {
      "cell_type": "code",
      "source": [
        "ar.sum(axis=1)"
      ],
      "metadata": {
        "colab": {
          "base_uri": "https://localhost:8080/"
        },
        "id": "LqTEQ0pdKKvW",
        "outputId": "86505fbe-4a02-4bb7-ae28-cff53fea4fdf"
      },
      "execution_count": 35,
      "outputs": [
        {
          "output_type": "execute_result",
          "data": {
            "text/plain": [
              "array([10, 40])"
            ]
          },
          "metadata": {},
          "execution_count": 35
        }
      ]
    },
    {
      "cell_type": "markdown",
      "source": [
        "**creat arry of dimension same as arr**\n"
      ],
      "metadata": {
        "id": "tqv_1CqVKgwX"
      }
    },
    {
      "cell_type": "code",
      "source": [
        "arr = np.arange(100).reshape(4,5,5)"
      ],
      "metadata": {
        "id": "bGbvftE0xGiF"
      },
      "execution_count": 50,
      "outputs": []
    },
    {
      "cell_type": "code",
      "source": [
        "dim = arr.shape"
      ],
      "metadata": {
        "id": "jKmwQ7bLxZ0O"
      },
      "execution_count": 46,
      "outputs": []
    },
    {
      "cell_type": "code",
      "source": [
        "arr2 = np.arange(arr.size).reshape(arr.shape)\n",
        "arr2 "
      ],
      "metadata": {
        "id": "Xjf0euJWxghk",
        "colab": {
          "base_uri": "https://localhost:8080/"
        },
        "outputId": "80e9aad6-6dd7-4279-f3b6-0e1c23305dd7"
      },
      "execution_count": 44,
      "outputs": [
        {
          "output_type": "execute_result",
          "data": {
            "text/plain": [
              "array([[[ 0,  1,  2,  3,  4],\n",
              "        [ 5,  6,  7,  8,  9],\n",
              "        [10, 11, 12, 13, 14],\n",
              "        [15, 16, 17, 18, 19],\n",
              "        [20, 21, 22, 23, 24]],\n",
              "\n",
              "       [[25, 26, 27, 28, 29],\n",
              "        [30, 31, 32, 33, 34],\n",
              "        [35, 36, 37, 38, 39],\n",
              "        [40, 41, 42, 43, 44],\n",
              "        [45, 46, 47, 48, 49]],\n",
              "\n",
              "       [[50, 51, 52, 53, 54],\n",
              "        [55, 56, 57, 58, 59],\n",
              "        [60, 61, 62, 63, 64],\n",
              "        [65, 66, 67, 68, 69],\n",
              "        [70, 71, 72, 73, 74]],\n",
              "\n",
              "       [[75, 76, 77, 78, 79],\n",
              "        [80, 81, 82, 83, 84],\n",
              "        [85, 86, 87, 88, 89],\n",
              "        [90, 91, 92, 93, 94],\n",
              "        [95, 96, 97, 98, 99]]])"
            ]
          },
          "metadata": {},
          "execution_count": 44
        }
      ]
    }
  ]
}