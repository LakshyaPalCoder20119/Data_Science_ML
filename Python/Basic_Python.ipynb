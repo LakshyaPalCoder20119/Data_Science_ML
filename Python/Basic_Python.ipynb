{
  "nbformat": 4,
  "nbformat_minor": 0,
  "metadata": {
    "colab": {
      "provenance": [],
      "authorship_tag": "ABX9TyO8vnwbDv9fBMvd1sHZmtIp",
      "include_colab_link": true
    },
    "kernelspec": {
      "name": "python3",
      "display_name": "Python 3"
    },
    "language_info": {
      "name": "python"
    }
  },
  "cells": [
    {
      "cell_type": "markdown",
      "metadata": {
        "id": "view-in-github",
        "colab_type": "text"
      },
      "source": [
        "<a href=\"https://colab.research.google.com/github/LakshyaPalCoder20119/Data_Science_ML/blob/main/Python/Basic_Python.ipynb\" target=\"_parent\"><img src=\"https://colab.research.google.com/assets/colab-badge.svg\" alt=\"Open In Colab\"/></a>"
      ]
    },
    {
      "cell_type": "code",
      "execution_count": null,
      "metadata": {
        "colab": {
          "base_uri": "https://localhost:8080/"
        },
        "id": "llzfkKdVQoIh",
        "outputId": "630f827f-95cf-4966-aadf-6b67cc9f4c6b"
      },
      "outputs": [
        {
          "output_type": "stream",
          "name": "stdout",
          "text": [
            "Hello lakshya\n"
          ]
        }
      ],
      "source": [
        "print('Hello lakshya')\n",
        "     "
      ]
    },
    {
      "cell_type": "code",
      "source": [
        "num = 10\n",
        "print(num)"
      ],
      "metadata": {
        "colab": {
          "base_uri": "https://localhost:8080/"
        },
        "id": "iuE82SMWQwHO",
        "outputId": "6297d87d-70b6-4706-915e-ce2d05d97c35"
      },
      "execution_count": null,
      "outputs": [
        {
          "output_type": "stream",
          "name": "stdout",
          "text": [
            "10\n"
          ]
        }
      ]
    },
    {
      "cell_type": "code",
      "source": [
        "num1 = 10.2\n",
        "print(type(num1))\n",
        "     "
      ],
      "metadata": {
        "id": "LblT0SlsQzhd",
        "colab": {
          "base_uri": "https://localhost:8080/"
        },
        "outputId": "666d1d2d-3587-4955-cdb2-a31f30d4ca69"
      },
      "execution_count": null,
      "outputs": [
        {
          "output_type": "stream",
          "name": "stdout",
          "text": [
            "<class 'float'>\n"
          ]
        }
      ]
    },
    {
      "cell_type": "code",
      "source": [
        "Name = \"Pepcoding\"\n",
        "print(Name)\n",
        "print(type(Name))"
      ],
      "metadata": {
        "id": "XKffzCjsQ24T",
        "colab": {
          "base_uri": "https://localhost:8080/"
        },
        "outputId": "ce45742c-4d04-43f6-d3ba-2f76ee07a7a1"
      },
      "execution_count": null,
      "outputs": [
        {
          "output_type": "stream",
          "name": "stdout",
          "text": [
            "Pepcoding\n",
            "<class 'str'>\n"
          ]
        }
      ]
    },
    {
      "cell_type": "code",
      "source": [
        "a,b,c = 10,15,20\n",
        "print(b)"
      ],
      "metadata": {
        "id": "YR6paY23Q27Y",
        "colab": {
          "base_uri": "https://localhost:8080/"
        },
        "outputId": "937f7bbb-a800-4438-c340-0621d659a9bd"
      },
      "execution_count": null,
      "outputs": [
        {
          "output_type": "stream",
          "name": "stdout",
          "text": [
            "15\n"
          ]
        }
      ]
    },
    {
      "cell_type": "code",
      "source": [
        "import keyword\n",
        "print(keyword.kwlist)"
      ],
      "metadata": {
        "id": "gPUjYXFkQ2-R",
        "colab": {
          "base_uri": "https://localhost:8080/"
        },
        "outputId": "207776b9-8048-450f-8b76-3ff39f7bdc77"
      },
      "execution_count": 4,
      "outputs": [
        {
          "output_type": "stream",
          "name": "stdout",
          "text": [
            "['False', 'None', 'True', 'and', 'as', 'assert', 'async', 'await', 'break', 'class', 'continue', 'def', 'del', 'elif', 'else', 'except', 'finally', 'for', 'from', 'global', 'if', 'import', 'in', 'is', 'lambda', 'nonlocal', 'not', 'or', 'pass', 'raise', 'return', 'try', 'while', 'with', 'yield']\n"
          ]
        }
      ]
    },
    {
      "cell_type": "code",
      "source": [
        "Num2 = (62-5*6)/4\n",
        "print(Num2)\n",
        "print(type(Num2))"
      ],
      "metadata": {
        "id": "iw9tIfyPQ3BE",
        "colab": {
          "base_uri": "https://localhost:8080/"
        },
        "outputId": "a31bd4e5-3760-4496-f796-0374629fd08e"
      },
      "execution_count": null,
      "outputs": [
        {
          "output_type": "stream",
          "name": "stdout",
          "text": [
            "8.0\n",
            "<class 'float'>\n"
          ]
        }
      ]
    },
    {
      "cell_type": "code",
      "source": [
        "Num3 = 17//3\n",
        "Num4 = 17%3\n",
        "print(Num3)\n",
        "print(Num4)\n",
        "     "
      ],
      "metadata": {
        "id": "ZUeS7EKQQ3D7",
        "colab": {
          "base_uri": "https://localhost:8080/"
        },
        "outputId": "38295cf6-1551-488e-9c2d-d57be5c7d51d"
      },
      "execution_count": null,
      "outputs": [
        {
          "output_type": "stream",
          "name": "stdout",
          "text": [
            "5\n",
            "2\n"
          ]
        }
      ]
    },
    {
      "cell_type": "code",
      "source": [
        "String = 'lakshya pal'\n",
        "print(String)\n",
        "     "
      ],
      "metadata": {
        "id": "WTGfsmluRvjd",
        "colab": {
          "base_uri": "https://localhost:8080/"
        },
        "outputId": "7cb2da0c-b62c-4468-c44d-f68d48b87ded"
      },
      "execution_count": 5,
      "outputs": [
        {
          "output_type": "stream",
          "name": "stdout",
          "text": [
            "lakshya pal\n"
          ]
        }
      ]
    },
    {
      "cell_type": "code",
      "source": [
        "String1 = 'Doesn\\'t, they Said hi.'\n",
        "String2 = \"Doesn't, they said by.\"\n",
        "print(String1)\n",
        "print(String2)\n",
        "     "
      ],
      "metadata": {
        "id": "0hLK9ENZRvma",
        "colab": {
          "base_uri": "https://localhost:8080/"
        },
        "outputId": "58cef649-553b-4b8c-eac8-97d39f7661fb"
      },
      "execution_count": null,
      "outputs": [
        {
          "output_type": "stream",
          "name": "stdout",
          "text": [
            "Doesn't, they Said hi.\n",
            "Doesn't, they said by.\n"
          ]
        }
      ]
    },
    {
      "cell_type": "code",
      "source": [
        "String3 = 'First Line.\\nSecond Line.'\n",
        "print(String3)"
      ],
      "metadata": {
        "id": "GIwkBrxERvpy",
        "colab": {
          "base_uri": "https://localhost:8080/"
        },
        "outputId": "4f019fe6-b9b9-4932-a229-e7502304b2d4"
      },
      "execution_count": null,
      "outputs": [
        {
          "output_type": "stream",
          "name": "stdout",
          "text": [
            "First Line.\n",
            "Second Line.\n"
          ]
        }
      ]
    },
    {
      "cell_type": "code",
      "source": [
        "String4 = 'c:\\Some\\name'\n",
        "String5 = r'c:\\Some\\name'\n",
        "print(String4)\n",
        "print(String5)"
      ],
      "metadata": {
        "id": "n0zx7qPcRvtB",
        "colab": {
          "base_uri": "https://localhost:8080/"
        },
        "outputId": "a3aed819-859e-4563-e06e-b328ec85817a"
      },
      "execution_count": null,
      "outputs": [
        {
          "output_type": "stream",
          "name": "stdout",
          "text": [
            "c:\\Some\n",
            "ame\n",
            "c:\\Some\\name\n"
          ]
        }
      ]
    },
    {
      "cell_type": "code",
      "source": [
        "String6 = 3*'un'+3*'ium'\n",
        "print(String6)"
      ],
      "metadata": {
        "id": "cfp1bOXURvwK",
        "colab": {
          "base_uri": "https://localhost:8080/"
        },
        "outputId": "101557e2-5233-41ff-bf6a-bc6dbd2926d4"
      },
      "execution_count": null,
      "outputs": [
        {
          "output_type": "stream",
          "name": "stdout",
          "text": [
            "unununiumiumium\n"
          ]
        }
      ]
    },
    {
      "cell_type": "code",
      "source": [
        "Prifix = 'Py'\n",
        "String7 = Prifix + 'thon'\n",
        "print(String7)\n",
        "print(String7[2:5])\n",
        "len(String7)\n",
        "print(String7[2:5:2])\n",
        "     "
      ],
      "metadata": {
        "id": "nXuIIOMcRvzk",
        "colab": {
          "base_uri": "https://localhost:8080/"
        },
        "outputId": "c792e502-c3c0-40e9-8ab1-db5b32030816"
      },
      "execution_count": null,
      "outputs": [
        {
          "output_type": "stream",
          "name": "stdout",
          "text": [
            "Python\n",
            "tho\n",
            "to\n"
          ]
        }
      ]
    },
    {
      "cell_type": "code",
      "source": [
        "Squares = [1, 4, 9, 16, 25]\n",
        "Squares.append(36)\n",
        "Squares.append(7**2)\n",
        "print(Squares)"
      ],
      "metadata": {
        "id": "t9cM7vC2Rv27",
        "colab": {
          "base_uri": "https://localhost:8080/"
        },
        "outputId": "01460192-9de8-44ab-d785-e238c4634180"
      },
      "execution_count": null,
      "outputs": [
        {
          "output_type": "stream",
          "name": "stdout",
          "text": [
            "[1, 4, 9, 16, 25, 36, 49]\n"
          ]
        }
      ]
    },
    {
      "cell_type": "code",
      "source": [
        "Squares1 = [1,4,9,16,25,36,49]\n",
        "Squares1[2:5] = [64,81,100]\n",
        "print(Squares1)"
      ],
      "metadata": {
        "id": "7g1sELvaRv50",
        "colab": {
          "base_uri": "https://localhost:8080/"
        },
        "outputId": "9df2df78-1eaf-4a9d-8fd1-26a04eb59238"
      },
      "execution_count": null,
      "outputs": [
        {
          "output_type": "stream",
          "name": "stdout",
          "text": [
            "[1, 4, 64, 81, 100, 36, 49]\n"
          ]
        }
      ]
    },
    {
      "cell_type": "code",
      "source": [
        "A = ['a','b','c']\n",
        "B = [1,2,3]\n",
        "C = [A,B]\n",
        "D = [A+B]\n",
        "print(C)\n",
        "print(D)\n",
        "print(C[0])\n",
        "print(C[0][1])"
      ],
      "metadata": {
        "id": "MRiCjPmHQz5F",
        "colab": {
          "base_uri": "https://localhost:8080/"
        },
        "outputId": "97577baa-aa0e-42d1-b3c6-af144378094c"
      },
      "execution_count": null,
      "outputs": [
        {
          "output_type": "stream",
          "name": "stdout",
          "text": [
            "[['a', 'b', 'c'], [1, 2, 3]]\n",
            "[['a', 'b', 'c', 1, 2, 3]]\n",
            "['a', 'b', 'c']\n",
            "b\n"
          ]
        }
      ]
    },
    {
      "cell_type": "code",
      "source": [
        "Aswan = 'Urrehman'\n",
        "if 'rehman' in Aswan:\n",
        "  print('Aswanurrehman')\n",
        "print(Aswan.upper())\n",
        "print(Aswan.lower())\n",
        "     "
      ],
      "metadata": {
        "id": "IlrAnbpeQ0A6",
        "colab": {
          "base_uri": "https://localhost:8080/"
        },
        "outputId": "023da55b-16fd-4278-9447-3277570d783d"
      },
      "execution_count": null,
      "outputs": [
        {
          "output_type": "stream",
          "name": "stdout",
          "text": [
            "Aswanurrehman\n",
            "URREHMAN\n",
            "urrehman\n"
          ]
        }
      ]
    },
    {
      "cell_type": "code",
      "source": [
        "Marks = 40\n",
        "if Marks>90:\n",
        "  print('A Grade')\n",
        "elif Marks>80:\n",
        "    print('B Grade')\n",
        "elif Marks>60:\n",
        "      print('C Grade')\n",
        "elif Marks>=40:\n",
        "        print('D Grade')\n",
        "else:\n",
        "          print('F Grade')"
      ],
      "metadata": {
        "colab": {
          "base_uri": "https://localhost:8080/"
        },
        "id": "x4m-5CsSvD0Z",
        "outputId": "75970f65-ec5b-4e3d-8a10-3ce0bbb87d24"
      },
      "execution_count": null,
      "outputs": [
        {
          "output_type": "stream",
          "name": "stdout",
          "text": [
            "D Grade\n"
          ]
        }
      ]
    },
    {
      "cell_type": "code",
      "source": [
        "Age = 25\n",
        "if Age>30:\n",
        "  print('Married')\n",
        "elif Age<10:\n",
        "     print('Unmarried') \n",
        "else: \n",
        "       print('UK')\n",
        "     "
      ],
      "metadata": {
        "colab": {
          "base_uri": "https://localhost:8080/"
        },
        "id": "KHWzXLe1vD3l",
        "outputId": "4830927d-ae3d-4ba2-be1e-fba190bd21e4"
      },
      "execution_count": null,
      "outputs": [
        {
          "output_type": "stream",
          "name": "stdout",
          "text": [
            "UK\n"
          ]
        }
      ]
    },
    {
      "cell_type": "code",
      "source": [
        "Loop = 'forloop'\n",
        "for ch in Loop:\n",
        "  print(ch)\n",
        "     "
      ],
      "metadata": {
        "colab": {
          "base_uri": "https://localhost:8080/"
        },
        "id": "H1o09zW5vD61",
        "outputId": "58e54bd7-0e46-444c-c915-04b97b7cfce6"
      },
      "execution_count": null,
      "outputs": [
        {
          "output_type": "stream",
          "name": "stdout",
          "text": [
            "f\n",
            "o\n",
            "r\n",
            "l\n",
            "o\n",
            "o\n",
            "p\n"
          ]
        }
      ]
    },
    {
      "cell_type": "code",
      "source": [
        "Loop1 = ['cat','window','Long']\n",
        "for w in Loop1:\n",
        "  print(w,len(w))"
      ],
      "metadata": {
        "colab": {
          "base_uri": "https://localhost:8080/"
        },
        "id": "7Pngug-evD-I",
        "outputId": "ee365647-baaa-43b2-db1b-6adc79696050"
      },
      "execution_count": null,
      "outputs": [
        {
          "output_type": "stream",
          "name": "stdout",
          "text": [
            "cat 3\n",
            "window 6\n",
            "Long 4\n"
          ]
        }
      ]
    },
    {
      "cell_type": "code",
      "source": [
        "for i in range(5):\n",
        "  print(i)\n",
        "print(sum(range(5)))\n",
        "     "
      ],
      "metadata": {
        "colab": {
          "base_uri": "https://localhost:8080/"
        },
        "id": "DDWSzotKvEBu",
        "outputId": "af3db454-f0bc-4f77-916f-fae1be48e117"
      },
      "execution_count": null,
      "outputs": [
        {
          "output_type": "stream",
          "name": "stdout",
          "text": [
            "0\n",
            "1\n",
            "2\n",
            "3\n",
            "4\n",
            "10\n"
          ]
        }
      ]
    },
    {
      "cell_type": "code",
      "source": [
        "list(range(5,10))\n",
        "     "
      ],
      "metadata": {
        "colab": {
          "base_uri": "https://localhost:8080/"
        },
        "id": "MUAA86fmvEEt",
        "outputId": "14670f02-b99c-4995-8882-522909084888"
      },
      "execution_count": null,
      "outputs": [
        {
          "output_type": "execute_result",
          "data": {
            "text/plain": [
              "[5, 6, 7, 8, 9]"
            ]
          },
          "metadata": {},
          "execution_count": 24
        }
      ]
    },
    {
      "cell_type": "code",
      "source": [
        "list(range(0,10,3))\n",
        "     "
      ],
      "metadata": {
        "colab": {
          "base_uri": "https://localhost:8080/"
        },
        "id": "-SvfmM8fvEH_",
        "outputId": "8700537f-34f8-4f6d-c6a5-fe51f026f4f6"
      },
      "execution_count": null,
      "outputs": [
        {
          "output_type": "execute_result",
          "data": {
            "text/plain": [
              "[0, 3, 6, 9]"
            ]
          },
          "metadata": {},
          "execution_count": 23
        }
      ]
    },
    {
      "cell_type": "code",
      "source": [
        "for z in range(5):\n",
        "  if z==3:\n",
        "    break\n",
        "  print(z*z)"
      ],
      "metadata": {
        "colab": {
          "base_uri": "https://localhost:8080/"
        },
        "id": "jlbncRQ3vELr",
        "outputId": "e8bab4e0-9c06-4a94-bbc0-106f0e1e4d7a"
      },
      "execution_count": null,
      "outputs": [
        {
          "output_type": "stream",
          "name": "stdout",
          "text": [
            "0\n",
            "1\n",
            "4\n"
          ]
        }
      ]
    },
    {
      "cell_type": "code",
      "source": [],
      "metadata": {
        "id": "GbWlBM0eZnl9"
      },
      "execution_count": null,
      "outputs": []
    },
    {
      "cell_type": "code",
      "source": [],
      "metadata": {
        "id": "j4ieipZGZnpP"
      },
      "execution_count": null,
      "outputs": []
    },
    {
      "cell_type": "code",
      "source": [],
      "metadata": {
        "id": "9oXjXQadZnsX"
      },
      "execution_count": null,
      "outputs": []
    },
    {
      "cell_type": "code",
      "source": [
        "for n in range(2, 10):\n",
        "    for x in range(2, n):\n",
        "        if n % x == 0:\n",
        "            print(n,'equals',x,'*',n//x)\n",
        "            break\n",
        "    else:\n",
        "      print(n,'is a prime number')    "
      ],
      "metadata": {
        "colab": {
          "base_uri": "https://localhost:8080/"
        },
        "id": "Et123MP-vEPN",
        "outputId": "9d93fb7c-0ae2-4234-d384-86d26385ff5a"
      },
      "execution_count": null,
      "outputs": [
        {
          "output_type": "stream",
          "name": "stdout",
          "text": [
            "2 is a prime number\n",
            "3 is a prime number\n",
            "4 equals 2 * 2\n",
            "5 is a prime number\n",
            "6 equals 2 * 3\n",
            "7 is a prime number\n",
            "8 equals 2 * 4\n",
            "9 equals 3 * 3\n"
          ]
        }
      ]
    },
    {
      "cell_type": "code",
      "source": [
        "for num in range(2, 10):\n",
        "    if num % 2 == 0:\n",
        "        print('Found an even number', num)\n",
        "        continue\n",
        "    print('Found an odd number', num)  "
      ],
      "metadata": {
        "id": "4tkFuH7OQ0FZ",
        "colab": {
          "base_uri": "https://localhost:8080/"
        },
        "outputId": "2daf1479-789f-41fc-da10-b8fcd7cb538b"
      },
      "execution_count": null,
      "outputs": [
        {
          "output_type": "stream",
          "name": "stdout",
          "text": [
            "Found an even number 2\n",
            "Found an odd number 3\n",
            "Found an even number 4\n",
            "Found an odd number 5\n",
            "Found an even number 6\n",
            "Found an odd number 7\n",
            "Found an even number 8\n",
            "Found an odd number 9\n"
          ]
        }
      ]
    },
    {
      "cell_type": "code",
      "source": [
        "lst = [1,2,3,'Pepcoding']\n",
        "lst.append('8')\n",
        "lst[0] = 55\n",
        "print(lst)\n",
        "lst2 = [1,2,3]\n",
        "lst.append(lst2)\n",
        "print(lst)\n",
        "print(lst[-1])\n",
        "print(lst[0:3])\n",
        "lst.insert(1,'DEF')\n",
        "print(lst)\n",
        "print(lst.pop())\n",
        "print(lst)\n",
        "for i in lst:\n",
        "  print(i)"
      ],
      "metadata": {
        "colab": {
          "base_uri": "https://localhost:8080/"
        },
        "id": "Inp3B2-kxMmO",
        "outputId": "a55796d2-6655-4b3a-c392-9db233945944"
      },
      "execution_count": null,
      "outputs": [
        {
          "output_type": "stream",
          "name": "stdout",
          "text": [
            "[55, 2, 3, 'Pepcoding', '8']\n",
            "[55, 2, 3, 'Pepcoding', '8', [1, 2, 3]]\n",
            "[1, 2, 3]\n",
            "[55, 2, 3]\n",
            "[55, 'DEF', 2, 3, 'Pepcoding', '8', [1, 2, 3]]\n",
            "[1, 2, 3]\n",
            "[55, 'DEF', 2, 3, 'Pepcoding', '8']\n",
            "55\n",
            "DEF\n",
            "2\n",
            "3\n",
            "Pepcoding\n",
            "8\n"
          ]
        }
      ]
    },
    {
      "cell_type": "code",
      "source": [
        "tup = (1,2,3,'Hello')\n",
        "print(tup[0])"
      ],
      "metadata": {
        "colab": {
          "base_uri": "https://localhost:8080/"
        },
        "id": "yQlAXzIyxMpZ",
        "outputId": "9b2a562d-6632-4825-f90a-ad19774b5b12"
      },
      "execution_count": null,
      "outputs": [
        {
          "output_type": "stream",
          "name": "stdout",
          "text": [
            "1\n"
          ]
        }
      ]
    },
    {
      "cell_type": "code",
      "source": [
        "for i in tup:\n",
        "  print(i)\n",
        "     "
      ],
      "metadata": {
        "colab": {
          "base_uri": "https://localhost:8080/"
        },
        "id": "afSZFieHxMsR",
        "outputId": "4ade25fb-876f-4458-8bab-3212db75aeed"
      },
      "execution_count": null,
      "outputs": [
        {
          "output_type": "stream",
          "name": "stdout",
          "text": [
            "1\n",
            "2\n",
            "3\n",
            "Hello\n"
          ]
        }
      ]
    },
    {
      "cell_type": "code",
      "source": [
        "st = {'Apple','Mango','Banana','Apple'}\n",
        "print(st)\n",
        "st.add('Orange')\n",
        "print(st)\n",
        "for i in st:\n",
        "  print(i)"
      ],
      "metadata": {
        "colab": {
          "base_uri": "https://localhost:8080/"
        },
        "id": "5llhTnVHxMvj",
        "outputId": "6b08d982-7c9c-435a-f3f9-8982b58fa9bd"
      },
      "execution_count": null,
      "outputs": [
        {
          "output_type": "stream",
          "name": "stdout",
          "text": [
            "{'Mango', 'Apple', 'Banana'}\n",
            "{'Mango', 'Apple', 'Banana', 'Orange'}\n",
            "Mango\n",
            "Apple\n",
            "Banana\n",
            "Orange\n"
          ]
        }
      ]
    },
    {
      "cell_type": "code",
      "source": [
        "st.pop()\n",
        "     "
      ],
      "metadata": {
        "colab": {
          "base_uri": "https://localhost:8080/",
          "height": 35
        },
        "id": "HDUbK39fxMy8",
        "outputId": "59ef7aea-33b3-4b4e-a17c-916e8e5b8c13"
      },
      "execution_count": null,
      "outputs": [
        {
          "output_type": "execute_result",
          "data": {
            "text/plain": [
              "'Mango'"
            ],
            "application/vnd.google.colaboratory.intrinsic+json": {
              "type": "string"
            }
          },
          "metadata": {},
          "execution_count": 16
        }
      ]
    },
    {
      "cell_type": "code",
      "source": [
        "\n",
        "set1 = {1,2,3,4,5}\n",
        "set2 = {2,5,8,9}\n",
        "print(set1.union(set2))\n",
        "print(set1.intersection(set2))"
      ],
      "metadata": {
        "colab": {
          "base_uri": "https://localhost:8080/"
        },
        "id": "SWUPDxh6xM2W",
        "outputId": "382eaf02-e330-48a1-9dbe-28f91c74cbe8"
      },
      "execution_count": null,
      "outputs": [
        {
          "output_type": "stream",
          "name": "stdout",
          "text": [
            "{1, 2, 3, 4, 5, 8, 9}\n",
            "{2, 5}\n"
          ]
        }
      ]
    },
    {
      "cell_type": "code",
      "source": [
        "dict1 = {'Name' : 'Aswan',\n",
        "         'Team' : 'HotDev'}\n",
        "print(dict1)\n",
        "dict2 = {'A':1,\n",
        "         'C':'Aswan',\n",
        "         'B':[1,2,3],\n",
        "         'A':3\n",
        "}\n",
        "print(dict2)\n",
        "print(dict2['A'])\n",
        "dict2['C']='Aman'\n",
        "print(dict2)\n",
        "print(dict2['B'][1])"
      ],
      "metadata": {
        "colab": {
          "base_uri": "https://localhost:8080/"
        },
        "id": "NyCvasFjx5AO",
        "outputId": "ec0e6ac4-48f4-402d-a320-c3907c5825c0"
      },
      "execution_count": null,
      "outputs": [
        {
          "output_type": "stream",
          "name": "stdout",
          "text": [
            "{'Name': 'Aswan', 'Team': 'HotDev'}\n",
            "{'A': 3, 'C': 'Aswan', 'B': [1, 2, 3]}\n",
            "3\n",
            "{'A': 3, 'C': 'Aman', 'B': [1, 2, 3]}\n",
            "2\n"
          ]
        }
      ]
    },
    {
      "cell_type": "code",
      "source": [
        "\n",
        "dict2.keys()"
      ],
      "metadata": {
        "id": "nKw2hzHbx5DK",
        "colab": {
          "base_uri": "https://localhost:8080/",
          "height": 165
        },
        "outputId": "5effc875-91f3-4a5a-856a-8e1bc66b125d"
      },
      "execution_count": 10,
      "outputs": [
        {
          "output_type": "error",
          "ename": "NameError",
          "evalue": "ignored",
          "traceback": [
            "\u001b[0;31m---------------------------------------------------------------------------\u001b[0m",
            "\u001b[0;31mNameError\u001b[0m                                 Traceback (most recent call last)",
            "\u001b[0;32m<ipython-input-10-3a4d4dd86119>\u001b[0m in \u001b[0;36m<module>\u001b[0;34m\u001b[0m\n\u001b[0;32m----> 1\u001b[0;31m \u001b[0mdict2\u001b[0m\u001b[0;34m.\u001b[0m\u001b[0mkeys\u001b[0m\u001b[0;34m(\u001b[0m\u001b[0;34m)\u001b[0m\u001b[0;34m\u001b[0m\u001b[0;34m\u001b[0m\u001b[0m\n\u001b[0m",
            "\u001b[0;31mNameError\u001b[0m: name 'dict2' is not defined"
          ]
        }
      ]
    },
    {
      "cell_type": "code",
      "source": [
        "dict2.values()\n",
        "     "
      ],
      "metadata": {
        "colab": {
          "base_uri": "https://localhost:8080/",
          "height": 183
        },
        "id": "rWGpTg63x5GF",
        "outputId": "02b65746-3c47-424d-f7d4-098f06b50f06"
      },
      "execution_count": 11,
      "outputs": [
        {
          "output_type": "error",
          "ename": "NameError",
          "evalue": "ignored",
          "traceback": [
            "\u001b[0;31m---------------------------------------------------------------------------\u001b[0m",
            "\u001b[0;31mNameError\u001b[0m                                 Traceback (most recent call last)",
            "\u001b[0;32m<ipython-input-11-342421011da3>\u001b[0m in \u001b[0;36m<module>\u001b[0;34m\u001b[0m\n\u001b[0;32m----> 1\u001b[0;31m \u001b[0mdict2\u001b[0m\u001b[0;34m.\u001b[0m\u001b[0mvalues\u001b[0m\u001b[0;34m(\u001b[0m\u001b[0;34m)\u001b[0m\u001b[0;34m\u001b[0m\u001b[0;34m\u001b[0m\u001b[0m\n\u001b[0m\u001b[1;32m      2\u001b[0m \u001b[0;34m\u001b[0m\u001b[0m\n",
            "\u001b[0;31mNameError\u001b[0m: name 'dict2' is not defined"
          ]
        }
      ]
    },
    {
      "cell_type": "code",
      "source": [
        "for i in dict2.values():\n",
        "  print(i)\n",
        "     "
      ],
      "metadata": {
        "colab": {
          "base_uri": "https://localhost:8080/"
        },
        "id": "T2Jd8xtmx5JS",
        "outputId": "19d3bd1e-09be-41d5-a764-0bccd07537bc"
      },
      "execution_count": null,
      "outputs": [
        {
          "output_type": "stream",
          "name": "stdout",
          "text": [
            "3\n",
            "Aman\n",
            "[1, 2, 3]\n"
          ]
        }
      ]
    },
    {
      "cell_type": "code",
      "source": [
        "for i,j in dict2.items():\n",
        "  print(i,j)"
      ],
      "metadata": {
        "colab": {
          "base_uri": "https://localhost:8080/"
        },
        "id": "hFTF6uEbx5MF",
        "outputId": "b2642f52-89c7-4062-aad8-e75a93e55e76"
      },
      "execution_count": null,
      "outputs": [
        {
          "output_type": "stream",
          "name": "stdout",
          "text": [
            "A 3\n",
            "C Aman\n",
            "B [1, 2, 3]\n"
          ]
        }
      ]
    },
    {
      "cell_type": "code",
      "source": [
        "for i,j in zip(dict2.values(),dict2.keys()):\n",
        "  print(i,j)"
      ],
      "metadata": {
        "colab": {
          "base_uri": "https://localhost:8080/"
        },
        "id": "BO89eqcKx5Pc",
        "outputId": "7d5889dc-6a63-4ed1-fe3e-a91f30112a39"
      },
      "execution_count": null,
      "outputs": [
        {
          "output_type": "stream",
          "name": "stdout",
          "text": [
            "3 A\n",
            "Aman C\n",
            "[1, 2, 3] B\n"
          ]
        }
      ]
    },
    {
      "cell_type": "code",
      "source": [
        "dict4={val:val*val  for val in range(1,6)}\n",
        "print(dict4)\n",
        "sum1 = sum(dict4.values())\n",
        "print(sum1)"
      ],
      "metadata": {
        "colab": {
          "base_uri": "https://localhost:8080/"
        },
        "id": "V1GIPOX_x5St",
        "outputId": "917c2a0d-2872-4e64-a230-f964552322da"
      },
      "execution_count": null,
      "outputs": [
        {
          "output_type": "stream",
          "name": "stdout",
          "text": [
            "{1: 1, 2: 4, 3: 9, 4: 16, 5: 25}\n",
            "55\n"
          ]
        }
      ]
    },
    {
      "cell_type": "code",
      "source": [
        "try:\n",
        "  a=5\n",
        "  b=6\n",
        "  c=a/b\n",
        "except:\n",
        "    print('Zero Divide')\n",
        "else:\n",
        "  print('Me Bhi Hun')\n",
        "finally:\n",
        "  print('Me Bhi Aa Gaya')\n",
        "     "
      ],
      "metadata": {
        "colab": {
          "base_uri": "https://localhost:8080/"
        },
        "id": "SSOt7_k4x5V1",
        "outputId": "eebe49b9-8bc0-4ee3-b4a4-a40360e191be"
      },
      "execution_count": null,
      "outputs": [
        {
          "output_type": "stream",
          "name": "stdout",
          "text": [
            "Me Bhi Hun\n",
            "Me Bhi Aa Gaya\n"
          ]
        }
      ]
    },
    {
      "cell_type": "code",
      "source": [
        "class Phone:\n",
        "  a=10\n",
        "  b=5\n",
        "  def initilization(Aswan,X):\n",
        "   Aswan.a=X\n",
        "   Aswan.d=X\n",
        "  def video(Aswan):\n",
        "    print(\"the phone has v call feature\")\n",
        "    print(Aswan.a)\n",
        "     \n"
      ],
      "metadata": {
        "id": "e3NMFSeJx5Ys"
      },
      "execution_count": null,
      "outputs": []
    },
    {
      "cell_type": "code",
      "source": [
        "p1=Phone()\n",
        "     "
      ],
      "metadata": {
        "id": "4oYNK4GIxM5R"
      },
      "execution_count": null,
      "outputs": []
    },
    {
      "cell_type": "code",
      "source": [
        "p1.initilization(20)"
      ],
      "metadata": {
        "id": "Si-TBIjZxM8p"
      },
      "execution_count": null,
      "outputs": []
    },
    {
      "cell_type": "code",
      "source": [
        "p1.d"
      ],
      "metadata": {
        "id": "w3hvIsd9Z9H0"
      },
      "execution_count": null,
      "outputs": []
    },
    {
      "cell_type": "code",
      "source": [
        "p1.video()"
      ],
      "metadata": {
        "id": "1vUQ1ZjDZ9LJ"
      },
      "execution_count": null,
      "outputs": []
    },
    {
      "cell_type": "code",
      "source": [
        "class Phone2:\n",
        "  def __init__(self,brand,color):\n",
        "   self.brand=brand\n",
        "   self.color=color\n",
        "  def printing(self):\n",
        "     print(\"i have \"+self.brand+\" in color \"+self.color)\n",
        "\n",
        "     "
      ],
      "metadata": {
        "id": "_BB3A18vZ9OS"
      },
      "execution_count": null,
      "outputs": []
    },
    {
      "cell_type": "code",
      "source": [
        "p2=Phone2(\"Iphone\",\"Black\")"
      ],
      "metadata": {
        "id": "LwuXtRM3Z9RW"
      },
      "execution_count": null,
      "outputs": []
    },
    {
      "cell_type": "code",
      "source": [
        "p2.printing()"
      ],
      "metadata": {
        "id": "cCiLG03zZ9UR"
      },
      "execution_count": null,
      "outputs": []
    },
    {
      "cell_type": "code",
      "source": [
        "class Phone2:\n",
        "  def __init__(self,brand,color):\n",
        "    self.brand=brand\n",
        "    self.color=color\n",
        "    def printing(self):\n",
        "      print(\"i have \"+self.brand+\" in color \"+self.color)\n",
        "      def xyz(Aswan):\n",
        "        print(\"abc\")"
      ],
      "metadata": {
        "id": "UfHNy9aaZ9Xp"
      },
      "execution_count": null,
      "outputs": []
    },
    {
      "cell_type": "code",
      "source": [
        "class Phone3(Phone2):\n",
        "  def Printing2(self):\n",
        "    print(\"m hu child class\")\n",
        "     "
      ],
      "metadata": {
        "id": "J1GYqhdXZ9ay",
        "outputId": "11d272a3-7896-4819-c3c4-d727527e821f",
        "colab": {
          "base_uri": "https://localhost:8080/",
          "height": 217
        }
      },
      "execution_count": 9,
      "outputs": [
        {
          "output_type": "error",
          "ename": "NameError",
          "evalue": "ignored",
          "traceback": [
            "\u001b[0;31m---------------------------------------------------------------------------\u001b[0m",
            "\u001b[0;31mNameError\u001b[0m                                 Traceback (most recent call last)",
            "\u001b[0;32m<ipython-input-9-1c400dadc601>\u001b[0m in \u001b[0;36m<module>\u001b[0;34m\u001b[0m\n\u001b[0;32m----> 1\u001b[0;31m \u001b[0;32mclass\u001b[0m \u001b[0mPhone3\u001b[0m\u001b[0;34m(\u001b[0m\u001b[0mPhone2\u001b[0m\u001b[0;34m)\u001b[0m\u001b[0;34m:\u001b[0m\u001b[0;34m\u001b[0m\u001b[0;34m\u001b[0m\u001b[0m\n\u001b[0m\u001b[1;32m      2\u001b[0m   \u001b[0;32mdef\u001b[0m \u001b[0mPrinting2\u001b[0m\u001b[0;34m(\u001b[0m\u001b[0mself\u001b[0m\u001b[0;34m)\u001b[0m\u001b[0;34m:\u001b[0m\u001b[0;34m\u001b[0m\u001b[0;34m\u001b[0m\u001b[0m\n\u001b[1;32m      3\u001b[0m     \u001b[0mprint\u001b[0m\u001b[0;34m(\u001b[0m\u001b[0;34m\"m hu child class\"\u001b[0m\u001b[0;34m)\u001b[0m\u001b[0;34m\u001b[0m\u001b[0;34m\u001b[0m\u001b[0m\n\u001b[1;32m      4\u001b[0m \u001b[0;34m\u001b[0m\u001b[0m\n",
            "\u001b[0;31mNameError\u001b[0m: name 'Phone2' is not defined"
          ]
        }
      ]
    },
    {
      "cell_type": "code",
      "source": [
        "p3=Phone3(\"Samsung\",\"white\")"
      ],
      "metadata": {
        "id": "qvIs2Lk2Z9d3",
        "outputId": "1c3cd8a0-7208-4456-cfb7-663ae7f394ac",
        "colab": {
          "base_uri": "https://localhost:8080/",
          "height": 165
        }
      },
      "execution_count": 7,
      "outputs": [
        {
          "output_type": "error",
          "ename": "NameError",
          "evalue": "ignored",
          "traceback": [
            "\u001b[0;31m---------------------------------------------------------------------------\u001b[0m",
            "\u001b[0;31mNameError\u001b[0m                                 Traceback (most recent call last)",
            "\u001b[0;32m<ipython-input-7-04a5bb7a2818>\u001b[0m in \u001b[0;36m<module>\u001b[0;34m\u001b[0m\n\u001b[0;32m----> 1\u001b[0;31m \u001b[0mp3\u001b[0m\u001b[0;34m=\u001b[0m\u001b[0mPhone3\u001b[0m\u001b[0;34m(\u001b[0m\u001b[0;34m\"Samsung\"\u001b[0m\u001b[0;34m,\u001b[0m\u001b[0;34m\"white\"\u001b[0m\u001b[0;34m)\u001b[0m\u001b[0;34m\u001b[0m\u001b[0;34m\u001b[0m\u001b[0m\n\u001b[0m",
            "\u001b[0;31mNameError\u001b[0m: name 'Phone3' is not defined"
          ]
        }
      ]
    },
    {
      "cell_type": "code",
      "source": [
        "p3.Printing2()"
      ],
      "metadata": {
        "id": "yEl24-URZ9hD",
        "outputId": "d2e83157-b0ff-4a72-f3a7-b74763d94fbf",
        "colab": {
          "base_uri": "https://localhost:8080/",
          "height": 165
        }
      },
      "execution_count": 6,
      "outputs": [
        {
          "output_type": "error",
          "ename": "NameError",
          "evalue": "ignored",
          "traceback": [
            "\u001b[0;31m---------------------------------------------------------------------------\u001b[0m",
            "\u001b[0;31mNameError\u001b[0m                                 Traceback (most recent call last)",
            "\u001b[0;32m<ipython-input-6-5056d57ed57b>\u001b[0m in \u001b[0;36m<module>\u001b[0;34m\u001b[0m\n\u001b[0;32m----> 1\u001b[0;31m \u001b[0mp3\u001b[0m\u001b[0;34m.\u001b[0m\u001b[0mPrinting2\u001b[0m\u001b[0;34m(\u001b[0m\u001b[0;34m)\u001b[0m\u001b[0;34m\u001b[0m\u001b[0;34m\u001b[0m\u001b[0m\n\u001b[0m",
            "\u001b[0;31mNameError\u001b[0m: name 'p3' is not defined"
          ]
        }
      ]
    },
    {
      "cell_type": "code",
      "source": [],
      "metadata": {
        "id": "lPWr-Dw_Z9kV"
      },
      "execution_count": null,
      "outputs": []
    },
    {
      "cell_type": "code",
      "source": [],
      "metadata": {
        "id": "x05xPOj8Z9nQ"
      },
      "execution_count": null,
      "outputs": []
    },
    {
      "cell_type": "code",
      "source": [],
      "metadata": {
        "id": "btFq4QmZZ9qF"
      },
      "execution_count": null,
      "outputs": []
    },
    {
      "cell_type": "code",
      "source": [],
      "metadata": {
        "id": "XqOTqdxQZ9tV"
      },
      "execution_count": null,
      "outputs": []
    },
    {
      "cell_type": "code",
      "source": [],
      "metadata": {
        "id": "SV9gfeKSxNAi"
      },
      "execution_count": null,
      "outputs": []
    },
    {
      "cell_type": "code",
      "source": [],
      "metadata": {
        "id": "HQblzCmrxND7"
      },
      "execution_count": null,
      "outputs": []
    },
    {
      "cell_type": "code",
      "source": [],
      "metadata": {
        "id": "FsziNdNLxNHS"
      },
      "execution_count": null,
      "outputs": []
    },
    {
      "cell_type": "code",
      "source": [],
      "metadata": {
        "id": "DsuLdMVLQ0JD"
      },
      "execution_count": null,
      "outputs": []
    }
  ]
}