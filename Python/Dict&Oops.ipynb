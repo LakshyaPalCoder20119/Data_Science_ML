{
  "nbformat": 4,
  "nbformat_minor": 0,
  "metadata": {
    "colab": {
      "provenance": [],
      "authorship_tag": "ABX9TyNLD70/K+FRreb4vk+qiTI8",
      "include_colab_link": true
    },
    "kernelspec": {
      "name": "python3",
      "display_name": "Python 3"
    },
    "language_info": {
      "name": "python"
    }
  },
  "cells": [
    {
      "cell_type": "markdown",
      "metadata": {
        "id": "view-in-github",
        "colab_type": "text"
      },
      "source": [
        "<a href=\"https://colab.research.google.com/github/LakshyaPalCoder20119/Data_Science_ML/blob/main/Python/Dict%26Oops.ipynb\" target=\"_parent\"><img src=\"https://colab.research.google.com/assets/colab-badge.svg\" alt=\"Open In Colab\"/></a>"
      ]
    },
    {
      "cell_type": "code",
      "execution_count": null,
      "metadata": {
        "id": "HmqGdOxYkyZo"
      },
      "outputs": [],
      "source": [
        "dict1={'Name':\"Aswan\",\n",
        "       \"Team\":\"HotDev\"}"
      ]
    },
    {
      "cell_type": "code",
      "source": [
        "dict1"
      ],
      "metadata": {
        "colab": {
          "base_uri": "https://localhost:8080/"
        },
        "id": "4xBJX8PHk5fj",
        "outputId": "a70a8bc4-76b4-4409-c1e3-fea247bcbec9"
      },
      "execution_count": null,
      "outputs": [
        {
          "output_type": "execute_result",
          "data": {
            "text/plain": [
              "{'Name': 'Aswan', 'Team': 'HotDev'}"
            ]
          },
          "metadata": {},
          "execution_count": 2
        }
      ]
    },
    {
      "cell_type": "code",
      "source": [
        "type(dict1)\n",
        "     "
      ],
      "metadata": {
        "colab": {
          "base_uri": "https://localhost:8080/"
        },
        "id": "KtWRtyEik7IY",
        "outputId": "3ebc32ac-17bf-4101-c2fa-e4f8563aeb19"
      },
      "execution_count": null,
      "outputs": [
        {
          "output_type": "execute_result",
          "data": {
            "text/plain": [
              "dict"
            ]
          },
          "metadata": {},
          "execution_count": 3
        }
      ]
    },
    {
      "cell_type": "code",
      "source": [
        "dict2={\n",
        "    'A':1,\n",
        "    'C':'Aswan',\n",
        "    'B':[1,2,3],\n",
        "    'A':3\n",
        "}"
      ],
      "metadata": {
        "id": "N00nVF9Ck7LW"
      },
      "execution_count": null,
      "outputs": []
    },
    {
      "cell_type": "code",
      "source": [
        "dict2"
      ],
      "metadata": {
        "colab": {
          "base_uri": "https://localhost:8080/"
        },
        "id": "bzn1J2Hvk7OY",
        "outputId": "23f5b5f0-70c9-4b49-dad8-1d850809320c"
      },
      "execution_count": null,
      "outputs": [
        {
          "output_type": "execute_result",
          "data": {
            "text/plain": [
              "{'A': 3, 'C': 'Aswan', 'B': [1, 2, 3]}"
            ]
          },
          "metadata": {},
          "execution_count": 5
        }
      ]
    },
    {
      "cell_type": "code",
      "source": [
        "dict2[\"A\"]\n",
        "     "
      ],
      "metadata": {
        "colab": {
          "base_uri": "https://localhost:8080/"
        },
        "id": "bUroCFPkk7RX",
        "outputId": "bfd87cc1-5267-4a67-dc8f-2ad97bd423ae"
      },
      "execution_count": null,
      "outputs": [
        {
          "output_type": "execute_result",
          "data": {
            "text/plain": [
              "3"
            ]
          },
          "metadata": {},
          "execution_count": 6
        }
      ]
    },
    {
      "cell_type": "code",
      "source": [
        "dict2['C']='Aman'\n",
        "     "
      ],
      "metadata": {
        "id": "tUzVWSssk7UW"
      },
      "execution_count": null,
      "outputs": []
    },
    {
      "cell_type": "code",
      "source": [
        "\n",
        "dict2"
      ],
      "metadata": {
        "colab": {
          "base_uri": "https://localhost:8080/"
        },
        "id": "PDJ-ZGsIk7XZ",
        "outputId": "3eebb3be-6e73-4261-8496-10debfb25ea4"
      },
      "execution_count": null,
      "outputs": [
        {
          "output_type": "execute_result",
          "data": {
            "text/plain": [
              "{'A': 3, 'C': 'Aman', 'B': [1, 2, 3]}"
            ]
          },
          "metadata": {},
          "execution_count": 8
        }
      ]
    },
    {
      "cell_type": "code",
      "source": [
        "dict2['A']=1"
      ],
      "metadata": {
        "id": "8DESrVNpk7ag"
      },
      "execution_count": null,
      "outputs": []
    },
    {
      "cell_type": "code",
      "source": [
        "dict2"
      ],
      "metadata": {
        "colab": {
          "base_uri": "https://localhost:8080/"
        },
        "id": "sAvuVUhHk7dn",
        "outputId": "efe870ad-601f-430b-901b-e2413e585caf"
      },
      "execution_count": null,
      "outputs": [
        {
          "output_type": "execute_result",
          "data": {
            "text/plain": [
              "{'A': 1, 'C': 'Aman', 'B': [1, 2, 3]}"
            ]
          },
          "metadata": {},
          "execution_count": 11
        }
      ]
    },
    {
      "cell_type": "code",
      "source": [
        "dict2['B'][1]"
      ],
      "metadata": {
        "colab": {
          "base_uri": "https://localhost:8080/"
        },
        "id": "w1-fK0HCk7g2",
        "outputId": "e5e755a7-2936-4cab-ce18-191d729ca46c"
      },
      "execution_count": null,
      "outputs": [
        {
          "output_type": "execute_result",
          "data": {
            "text/plain": [
              "2"
            ]
          },
          "metadata": {},
          "execution_count": 12
        }
      ]
    },
    {
      "cell_type": "code",
      "source": [
        "dict2.keys()"
      ],
      "metadata": {
        "colab": {
          "base_uri": "https://localhost:8080/"
        },
        "id": "1f76-7D3li-I",
        "outputId": "2e7324e6-fe60-46f1-c864-6fe4cbfed305"
      },
      "execution_count": null,
      "outputs": [
        {
          "output_type": "execute_result",
          "data": {
            "text/plain": [
              "dict_keys(['A', 'C', 'B'])"
            ]
          },
          "metadata": {},
          "execution_count": 13
        }
      ]
    },
    {
      "cell_type": "code",
      "source": [
        "dict2.values()\n",
        "     "
      ],
      "metadata": {
        "colab": {
          "base_uri": "https://localhost:8080/"
        },
        "id": "1FR72M-_ljA6",
        "outputId": "ed97527a-5764-4b4d-a9ed-2be30c576121"
      },
      "execution_count": null,
      "outputs": [
        {
          "output_type": "execute_result",
          "data": {
            "text/plain": [
              "dict_values([1, 'Aman', [1, 2, 3]])"
            ]
          },
          "metadata": {},
          "execution_count": 14
        }
      ]
    },
    {
      "cell_type": "code",
      "source": [
        "for i in dict2.values():\n",
        "  print(i)"
      ],
      "metadata": {
        "colab": {
          "base_uri": "https://localhost:8080/"
        },
        "id": "zCScz0moljD7",
        "outputId": "c5adc166-c227-4459-dc0f-dc5e79d30d79"
      },
      "execution_count": null,
      "outputs": [
        {
          "output_type": "stream",
          "name": "stdout",
          "text": [
            "1\n",
            "Aman\n",
            "[1, 2, 3]\n"
          ]
        }
      ]
    },
    {
      "cell_type": "code",
      "source": [
        "for i,j in dict2.items():\n",
        "  print(i,j)"
      ],
      "metadata": {
        "colab": {
          "base_uri": "https://localhost:8080/"
        },
        "id": "8dotiRValjHD",
        "outputId": "a0803032-6a64-4c18-c967-543c74472471"
      },
      "execution_count": null,
      "outputs": [
        {
          "output_type": "stream",
          "name": "stdout",
          "text": [
            "A 1\n",
            "C Aman\n",
            "B [1, 2, 3]\n"
          ]
        }
      ]
    },
    {
      "cell_type": "code",
      "source": [
        "for i,j in zip(dict2.values(),dict2.keys()):\n",
        "  print(i,j)"
      ],
      "metadata": {
        "colab": {
          "base_uri": "https://localhost:8080/"
        },
        "id": "RhjCn5d8ljKv",
        "outputId": "282b45c5-c748-426c-d85e-2622873de0ac"
      },
      "execution_count": null,
      "outputs": [
        {
          "output_type": "stream",
          "name": "stdout",
          "text": [
            "1 A\n",
            "Aman C\n",
            "[1, 2, 3] B\n"
          ]
        }
      ]
    },
    {
      "cell_type": "code",
      "source": [
        "dict4={val:val*val for val in range(1,6)}"
      ],
      "metadata": {
        "id": "HgvuUaGsljN1"
      },
      "execution_count": null,
      "outputs": []
    },
    {
      "cell_type": "code",
      "source": [
        "dict4\n",
        "     "
      ],
      "metadata": {
        "colab": {
          "base_uri": "https://localhost:8080/"
        },
        "id": "kiTzXmRaljRd",
        "outputId": "55f452a2-2d4d-42d7-ab53-f584683600cd"
      },
      "execution_count": null,
      "outputs": [
        {
          "output_type": "execute_result",
          "data": {
            "text/plain": [
              "{1: 1, 2: 4, 3: 9, 4: 16, 5: 25}"
            ]
          },
          "metadata": {},
          "execution_count": 20
        }
      ]
    },
    {
      "cell_type": "code",
      "source": [
        "sum1=sum(dict4.values())"
      ],
      "metadata": {
        "id": "DNu720YrljVC"
      },
      "execution_count": null,
      "outputs": []
    },
    {
      "cell_type": "code",
      "source": [
        "sum1"
      ],
      "metadata": {
        "colab": {
          "base_uri": "https://localhost:8080/"
        },
        "id": "qw0yBZJaljYW",
        "outputId": "85e9b505-d0d5-471b-a713-6d95674e7544"
      },
      "execution_count": null,
      "outputs": [
        {
          "output_type": "execute_result",
          "data": {
            "text/plain": [
              "55"
            ]
          },
          "metadata": {},
          "execution_count": 22
        }
      ]
    },
    {
      "cell_type": "code",
      "source": [
        "class Phone:\n",
        "  a=10\n",
        "  b=5\n",
        "  def initilization(Aswan,X):\n",
        "    Aswan.a=X\n",
        "    Aswan.d=X\n",
        "  def video(kunal):\n",
        "    print(\"the phone has v call feature\")\n",
        "    print(kunal.a)\n",
        "    print(kunal.d)"
      ],
      "metadata": {
        "id": "ot9OU6JAljbl"
      },
      "execution_count": null,
      "outputs": []
    },
    {
      "cell_type": "code",
      "source": [
        "p1=Phone()\n",
        "     "
      ],
      "metadata": {
        "id": "il_we9eNk7jn"
      },
      "execution_count": null,
      "outputs": []
    },
    {
      "cell_type": "code",
      "source": [
        "p1.initilization(20)"
      ],
      "metadata": {
        "id": "CKlgwCvymLtb"
      },
      "execution_count": null,
      "outputs": []
    },
    {
      "cell_type": "code",
      "source": [
        "p1.d"
      ],
      "metadata": {
        "colab": {
          "base_uri": "https://localhost:8080/"
        },
        "id": "Kt3XlXY-mLwO",
        "outputId": "6589f24a-1ecb-4857-94ad-95e7d69d8319"
      },
      "execution_count": null,
      "outputs": [
        {
          "output_type": "execute_result",
          "data": {
            "text/plain": [
              "20"
            ]
          },
          "metadata": {},
          "execution_count": 26
        }
      ]
    },
    {
      "cell_type": "code",
      "source": [
        "p1.video()"
      ],
      "metadata": {
        "colab": {
          "base_uri": "https://localhost:8080/"
        },
        "id": "76gxSQNZmLzN",
        "outputId": "e48c7c69-cc60-4efd-baec-f6c530972a3d"
      },
      "execution_count": null,
      "outputs": [
        {
          "output_type": "stream",
          "name": "stdout",
          "text": [
            "the phone has v call feature\n",
            "20\n",
            "20\n"
          ]
        }
      ]
    },
    {
      "cell_type": "code",
      "source": [
        "class Phone2:\n",
        "  def __init__(self,brand,color):\n",
        "    self.brand=brand\n",
        "    self.color=color\n",
        "  def printing(self):\n",
        "    print(\"i have \"+self.brand+\" in color \"+self.color)\n",
        "  def xyz(kunal):\n",
        "    print(\"abc\")"
      ],
      "metadata": {
        "id": "nyyu7bE9mL1m"
      },
      "execution_count": null,
      "outputs": []
    },
    {
      "cell_type": "code",
      "source": [
        "\n",
        "class Phone3(Phone2):\n",
        "  def __init__(self,brand,color,ram,rom):\n",
        "    super().__init__(brand,color)\n",
        "    self.ram=ram\n",
        "    self.rom=rom\n",
        "  def Printing2(self):\n",
        "    print(\"m hu child class\")\n",
        "    print(self.ram)\n",
        "    print(self.rom)"
      ],
      "metadata": {
        "id": "KALFnaHZmL49"
      },
      "execution_count": null,
      "outputs": []
    },
    {
      "cell_type": "code",
      "source": [
        "p3=Phone3(\"Samsung\",\"White\",\"16 Gb\",\"256 Gb\")"
      ],
      "metadata": {
        "id": "cbgj4q_ok7nJ",
        "colab": {
          "base_uri": "https://localhost:8080/",
          "height": 163
        },
        "outputId": "809d8ede-65ef-4da3-c11c-68357a30a001"
      },
      "execution_count": null,
      "outputs": [
        {
          "output_type": "error",
          "ename": "NameError",
          "evalue": "ignored",
          "traceback": [
            "\u001b[0;31m---------------------------------------------------------------------------\u001b[0m",
            "\u001b[0;31mNameError\u001b[0m                                 Traceback (most recent call last)",
            "\u001b[0;32m<ipython-input-3-ab1ce225dfba>\u001b[0m in \u001b[0;36m<module>\u001b[0;34m\u001b[0m\n\u001b[0;32m----> 1\u001b[0;31m \u001b[0mp3\u001b[0m\u001b[0;34m=\u001b[0m\u001b[0mPhone3\u001b[0m\u001b[0;34m(\u001b[0m\u001b[0;34m\"Samsung\"\u001b[0m\u001b[0;34m,\u001b[0m\u001b[0;34m\"White\"\u001b[0m\u001b[0;34m,\u001b[0m\u001b[0;34m\"16 Gb\"\u001b[0m\u001b[0;34m,\u001b[0m\u001b[0;34m\"256 Gb\"\u001b[0m\u001b[0;34m)\u001b[0m\u001b[0;34m\u001b[0m\u001b[0;34m\u001b[0m\u001b[0m\n\u001b[0m",
            "\u001b[0;31mNameError\u001b[0m: name 'Phone3' is not defined"
          ]
        }
      ]
    },
    {
      "cell_type": "code",
      "source": [
        "p3.printing()\n",
        "     "
      ],
      "metadata": {
        "colab": {
          "base_uri": "https://localhost:8080/",
          "height": 180
        },
        "id": "JDcdd_URk7qe",
        "outputId": "3f81b290-c8d0-4d47-e072-a01d8b9072e8"
      },
      "execution_count": null,
      "outputs": [
        {
          "output_type": "error",
          "ename": "NameError",
          "evalue": "ignored",
          "traceback": [
            "\u001b[0;31m---------------------------------------------------------------------------\u001b[0m",
            "\u001b[0;31mNameError\u001b[0m                                 Traceback (most recent call last)",
            "\u001b[0;32m<ipython-input-4-a3f52bdabb62>\u001b[0m in \u001b[0;36m<module>\u001b[0;34m\u001b[0m\n\u001b[0;32m----> 1\u001b[0;31m \u001b[0mp3\u001b[0m\u001b[0;34m.\u001b[0m\u001b[0mprinting\u001b[0m\u001b[0;34m(\u001b[0m\u001b[0;34m)\u001b[0m\u001b[0;34m\u001b[0m\u001b[0;34m\u001b[0m\u001b[0m\n\u001b[0m\u001b[1;32m      2\u001b[0m \u001b[0;34m\u001b[0m\u001b[0m\n",
            "\u001b[0;31mNameError\u001b[0m: name 'p3' is not defined"
          ]
        }
      ]
    },
    {
      "cell_type": "code",
      "source": [
        "p3.Printing2()"
      ],
      "metadata": {
        "colab": {
          "base_uri": "https://localhost:8080/",
          "height": 163
        },
        "id": "g0_ykh7nmgcF",
        "outputId": "1933c903-fe47-41a0-84ac-3b1e1aada521"
      },
      "execution_count": null,
      "outputs": [
        {
          "output_type": "error",
          "ename": "NameError",
          "evalue": "ignored",
          "traceback": [
            "\u001b[0;31m---------------------------------------------------------------------------\u001b[0m",
            "\u001b[0;31mNameError\u001b[0m                                 Traceback (most recent call last)",
            "\u001b[0;32m<ipython-input-5-5056d57ed57b>\u001b[0m in \u001b[0;36m<module>\u001b[0;34m\u001b[0m\n\u001b[0;32m----> 1\u001b[0;31m \u001b[0mp3\u001b[0m\u001b[0;34m.\u001b[0m\u001b[0mPrinting2\u001b[0m\u001b[0;34m(\u001b[0m\u001b[0;34m)\u001b[0m\u001b[0;34m\u001b[0m\u001b[0;34m\u001b[0m\u001b[0m\n\u001b[0m",
            "\u001b[0;31mNameError\u001b[0m: name 'p3' is not defined"
          ]
        }
      ]
    },
    {
      "cell_type": "code",
      "source": [
        "\n",
        "class A:\n",
        "  a=10 #Public\n",
        "  _b=20 #Protected\n",
        "  __c=30 #Private\n",
        "  def print_all(self):\n",
        "    print(self.a)\n",
        "    print(self._b)\n",
        "    print(self.__c)"
      ],
      "metadata": {
        "id": "1M7QMRfmmgfK"
      },
      "execution_count": null,
      "outputs": []
    },
    {
      "cell_type": "code",
      "source": [
        "p1=A()"
      ],
      "metadata": {
        "id": "VshGfDhymgiU"
      },
      "execution_count": null,
      "outputs": []
    },
    {
      "cell_type": "code",
      "source": [
        "p1.print_all()"
      ],
      "metadata": {
        "colab": {
          "base_uri": "https://localhost:8080/"
        },
        "id": "4TsMszEIMQuW",
        "outputId": "206baa3b-b5fc-46a4-db4d-18bf843c8a09"
      },
      "execution_count": null,
      "outputs": [
        {
          "output_type": "stream",
          "name": "stdout",
          "text": [
            "10\n",
            "20\n",
            "30\n"
          ]
        }
      ]
    },
    {
      "cell_type": "code",
      "source": [
        "class B(A):\n",
        "  def show(self):\n",
        "    print(self.__c)"
      ],
      "metadata": {
        "id": "bDycrX5FMQz1"
      },
      "execution_count": null,
      "outputs": []
    },
    {
      "cell_type": "code",
      "source": [
        "p2=B()"
      ],
      "metadata": {
        "id": "Lk1qE0G0MQ50"
      },
      "execution_count": null,
      "outputs": []
    },
    {
      "cell_type": "code",
      "source": [
        "p2.show()"
      ],
      "metadata": {
        "id": "OjnfCIkbMQ9u"
      },
      "execution_count": null,
      "outputs": []
    },
    {
      "cell_type": "code",
      "source": [
        "class C(B):\n",
        "  def show_me(self):\n",
        "    print(self._b)"
      ],
      "metadata": {
        "id": "GJVyEwRSMRDu"
      },
      "execution_count": null,
      "outputs": []
    },
    {
      "cell_type": "code",
      "source": [
        "p3=C()\n",
        "     "
      ],
      "metadata": {
        "id": "TRfE4FiaMRH1",
        "colab": {
          "base_uri": "https://localhost:8080/",
          "height": 180
        },
        "outputId": "6b71b357-0a52-4b36-eaf4-a6c299be81b2"
      },
      "execution_count": null,
      "outputs": [
        {
          "output_type": "error",
          "ename": "NameError",
          "evalue": "ignored",
          "traceback": [
            "\u001b[0;31m---------------------------------------------------------------------------\u001b[0m",
            "\u001b[0;31mNameError\u001b[0m                                 Traceback (most recent call last)",
            "\u001b[0;32m<ipython-input-1-40fa02bbd816>\u001b[0m in \u001b[0;36m<module>\u001b[0;34m\u001b[0m\n\u001b[0;32m----> 1\u001b[0;31m \u001b[0mp3\u001b[0m\u001b[0;34m=\u001b[0m\u001b[0mC\u001b[0m\u001b[0;34m(\u001b[0m\u001b[0;34m)\u001b[0m\u001b[0;34m\u001b[0m\u001b[0;34m\u001b[0m\u001b[0m\n\u001b[0m\u001b[1;32m      2\u001b[0m \u001b[0;34m\u001b[0m\u001b[0m\n",
            "\u001b[0;31mNameError\u001b[0m: name 'C' is not defined"
          ]
        }
      ]
    },
    {
      "cell_type": "code",
      "source": [
        "p3.show_me()\n",
        "     "
      ],
      "metadata": {
        "id": "zKfmcCnXMRMH"
      },
      "execution_count": null,
      "outputs": []
    },
    {
      "cell_type": "code",
      "source": [],
      "metadata": {
        "id": "-3jM7H7zMRSf"
      },
      "execution_count": null,
      "outputs": []
    },
    {
      "cell_type": "code",
      "source": [],
      "metadata": {
        "id": "stEIcGKRmgll"
      },
      "execution_count": null,
      "outputs": []
    },
    {
      "cell_type": "code",
      "source": [],
      "metadata": {
        "id": "vsEHvq9Mk7uO"
      },
      "execution_count": null,
      "outputs": []
    }
  ]
}